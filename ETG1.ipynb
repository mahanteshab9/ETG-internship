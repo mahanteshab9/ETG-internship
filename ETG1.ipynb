{
  "nbformat": 4,
  "nbformat_minor": 0,
  "metadata": {
    "colab": {
      "name": "ETG1.ipynb",
      "provenance": [],
      "collapsed_sections": []
    },
    "kernelspec": {
      "name": "python3",
      "display_name": "Python 3"
    },
    "language_info": {
      "name": "python"
    }
  },
  "cells": [
    {
      "cell_type": "code",
      "metadata": {
        "id": "B8r5whZ3CeI6"
      },
      "source": [
        "    products={1001:{\"name\":\"perk\",\"price\":5,\"quantity\":20,\"weight\":20,\"calorie\":50},\n",
        "      1002:{\"name\":\"kitkat\",\"price\":5,\"quantity\":20,\"weight\":10,\"calorie\":30},\n",
        "      1003:{\"name\":\"fivestar\",\"price\":5,\"quantity\":20,\"weight\":15,\"calorie\":70},\n",
        "      1004:{\"name\":\"Dairymilk\",\"price\":5,\"quantity\":20,\"weight\":20,\"calorie\":90},\n",
        "      1005:{\"name\":\"munch\",\"price\":10,\"quantity\":20,\"weight\":10,\"calorie\":70},\n",
        "      1006:{\"name\":\"milkybar\",\"price\":10,\"quantity\":20,\"weight\":20,\"calorie\":60},\n",
        "      1007:{\"name\":\"tango\",\"price\":20,\"quantity\":20,\"weight\":50,\"calorie\":30},\n",
        "      1008:{\"name\":\"mountaindue\",\"price\":30,\"quantity\":20,\"weight\":50,\"calorie\":50},\n",
        "      1009:{\"name\":\"pepsi\",\"price\":50,\"quantity\":20,\"weight\":20,\"calorie\":50},\n",
        "      1010:{\"name\":\"kurkure\",\"price\":5,\"quantity\":20,\"weight\":20,\"calorie\":70},\n",
        "      1011:{\"name\":\"bingo\",\"price\":5,\"quantity\":20,\"weight\":20,\"calorie\":50},\n",
        "      1012:{\"name\":\"chips\",\"price\":5,\"quantity\":20,\"weight\":10,\"calorie\":40},\n",
        "      1013:{\"name\":\"bananachips\",\"price\":25,\"quantity\":20,\"weight\":20,\"calorie\":100},\n",
        "      1014:{\"name\":\"oreo\",\"price\":15,\"quantity\":20,\"weight\":20,\"calorie\":70},\n",
        "      1015:{\"name\":\"cocacola\",\"price\":20,\"quantity\":20,\"weight\":200,\"calorie\":50},\n",
        "      1016:{\"name\":\"parle\",\"price\":5,\"quantity\":20,\"weight\":20,\"calorie\":50},\n",
        "      1017:{\"name\":\"mari\",\"price\":5,\"quantity\":20,\"weight\":50,\"calorie\":50},\n",
        "      1018:{\"name\":\"darkfantasy\",\"price\":30,\"quantity\":20,\"weight\":20,\"calorie\":50},\n",
        "      1019:{\"name\":\"goodday\",\"price\":100,\"quantity\":20,\"weight\":100,\"calorie\":50},\n",
        "      1020:{\"name\":\"maggi\",\"price\":12,\"quantity\":20,\"weight\":20,\"calorie\":50},\n",
        "      1021:{\"name\":\"pears\",\"price\":18,\"quantity\":20,\"weight\":20,\"calorie\":50},\n",
        "      1022:{\"name\":\"lays\",\"price\":10,\"quantity\":20,\"weight\":20,\"calorie\":50},\n",
        "      1023:{\"name\":\"pasta\",\"price\":25,\"quantity\":20,\"weight\":25,\"calorie\":100},\n",
        "      1024:{\"name\":\"wheels\",\"price\":5,\"quantity\":20,\"weight\":30,\"calorie\":50},\n",
        "      1025:{\"name\":\"peanuts\",\"price\":500,\"quantity\":20,\"weight\":250,\"calorie\":200},\n",
        "      1026:{\"name\":\"murmura\",\"price\":10,\"quantity\":20,\"weight\":10,\"calorie\":500},\n",
        "      1027:{\"name\":\"dairymilksilk\",\"price\":100,\"quantity\":20,\"weight\":50,\"calorie\":250},\n",
        "      1028:{\"name\":\"kajus\",\"price\":5,\"quantity\":20,\"weight\":10,\"calorie\":30},\n",
        "      1029:{\"name\":\"sprit\",\"price\":20,\"quantity\":20,\"weight\":300,\"calorie\":150},\n",
        "      1030:{\"name\":\"sipon\",\"price\":20,\"quantity\":20,\"weight\":200,\"calorie\":175}\n",
        "      }\n",
        "      "
      ],
      "execution_count": 4,
      "outputs": []
    },
    {
      "cell_type": "code",
      "metadata": {
        "id": "2A2XEvsipQqt"
      },
      "source": [
        "import json\n",
        "ap=json.dumps(products)\n",
        "fhand=open(\"product_list.json\",'w')\n",
        "fhand.write(ap)\n",
        "fhand.close()"
      ],
      "execution_count": 7,
      "outputs": []
    },
    {
      "cell_type": "code",
      "metadata": {
        "id": "zb2mLeKmqKue"
      },
      "source": [
        "fhand=open(\"product_list.json\",'r')\n",
        "r=fhand.read()\n",
        "fhand.close()\n",
        "available_list=json.loads(r)\n"
      ],
      "execution_count": 11,
      "outputs": []
    },
    {
      "cell_type": "markdown",
      "metadata": {
        "id": "k-cnxgw4rYps"
      },
      "source": [
        "Creating Bill"
      ]
    },
    {
      "cell_type": "code",
      "metadata": {
        "colab": {
          "base_uri": "https://localhost:8080/"
        },
        "id": "VV-t9PoCrcZs",
        "outputId": "451ba0b2-6b0c-4623-f9a8-61f7848c4dd3"
      },
      "source": [
        "product_id=input(\"enter product id:\")\n",
        "qt=int(input(\"enter quantity:\"))\n",
        "\n",
        "if product_id in available_list:\n",
        "  product=available_list[product_id]\n",
        "  if qt <= product[\"quantity\"]:\n",
        "    print(\"product name:\",product[\"name\"])\n",
        "    print(\"weight of products in grams:\",product['weight']*qt,\"g\")\n",
        "    print(\"price of the product for 1 unit :\",product['price'])\n",
        "    print(\"bill amount   :\",product['price']*qt)\n",
        "  else:\n",
        "    print(\"Did have stock\")\n",
        "else:\n",
        "  print(\"Product will not be availabe in our store\")   \n",
        "\n",
        "remain=product[\"quantity\"]-qt\n",
        "available_list[product_id][\"quantity\"]=remain\n",
        "\n",
        "adding=json.dumps(available_list)\n",
        "fh=open(\"product_list.json\",'w')\n",
        "fh.write(adding)\n",
        "fh.close()"
      ],
      "execution_count": 19,
      "outputs": [
        {
          "output_type": "stream",
          "name": "stdout",
          "text": [
            "enter product id:1022\n",
            "enter quantity:2\n",
            "product name: lays\n",
            "weight of products in grams: 40 g\n",
            "price of the product for 1 unit : 10\n",
            "bill amount   : 20\n"
          ]
        }
      ]
    },
    {
      "cell_type": "markdown",
      "metadata": {
        "id": "uq3AI-cN42cc"
      },
      "source": [
        "Adding New Products\n",
        "\n"
      ]
    },
    {
      "cell_type": "code",
      "metadata": {
        "colab": {
          "base_uri": "https://localhost:8080/"
        },
        "id": "ie4NgSwJ4-Ea",
        "outputId": "c322dd1d-e40d-4469-fd9e-867d359b580a"
      },
      "source": [
        "fhand=open(\"product_list.json\",'r')\n",
        "txt=fhand.read()\n",
        "fhand.close()\n",
        "stock=json.loads(txt)\n",
        "\n",
        "new_stock=input(\"enter the product id:\")\n",
        "if new_stock in stock:\n",
        "  qt=int(input(\"enter the quantity:\"))\n",
        "  x=stock[new_stock]['quantity']+qt\n",
        "  stock[new_stock]['quantity']=x\n",
        "else:\n",
        "  name=input(\"enter name of product\")\n",
        "  qt=int(input(\"enter the quantity:\"))\n",
        "  price=int(input(\"enter price\"))\n",
        "  wt=float(input(\"enter weight\"))\n",
        "  cal=float(input(\"enter calorie\"))\n",
        "  stock[new_stock]={'name':name,'price per piece':price,'quantity':qt,'weight':wt,'calorie':cal}\n",
        "\n",
        "a=json.dumps(stock)\n",
        "fh=open(\"product_list.json\",'w')\n",
        "fh.write(a)\n",
        "fh.close()\n",
        "print(\"products were added into Stocks \")"
      ],
      "execution_count": 24,
      "outputs": [
        {
          "output_type": "stream",
          "name": "stdout",
          "text": [
            "enter the product id:1031\n",
            "enter name of productPotatofitz\n",
            "enter the quantity:30\n",
            "enter price20\n",
            "enter weight40\n",
            "enter calorie350\n",
            "products were added into Stocks \n"
          ]
        }
      ]
    }
  ]
}